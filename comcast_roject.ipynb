{
 "cells": [
  {
   "cell_type": "code",
   "execution_count": 1,
   "metadata": {},
   "outputs": [],
   "source": [
    "import numpy as np "
   ]
  },
  {
   "cell_type": "code",
   "execution_count": 2,
   "metadata": {},
   "outputs": [],
   "source": [
    "import pandas as pd "
   ]
  },
  {
   "cell_type": "code",
   "execution_count": 3,
   "metadata": {},
   "outputs": [],
   "source": [
    "df = pd.read_csv('C:/Users/hp/Anaconda3/Medha ml/comcast_consumeraffairs_complaints.csv')"
   ]
  },
  {
   "cell_type": "code",
   "execution_count": 4,
   "metadata": {},
   "outputs": [],
   "source": [
    "df_fcc = pd.read_csv('C:/Users/hp/Anaconda3/Medha ml/Comcastfcc.csv')"
   ]
  },
  {
   "cell_type": "code",
   "execution_count": 5,
   "metadata": {
    "collapsed": true
   },
   "outputs": [
    {
     "data": {
      "text/html": [
       "<div>\n",
       "<style scoped>\n",
       "    .dataframe tbody tr th:only-of-type {\n",
       "        vertical-align: middle;\n",
       "    }\n",
       "\n",
       "    .dataframe tbody tr th {\n",
       "        vertical-align: top;\n",
       "    }\n",
       "\n",
       "    .dataframe thead th {\n",
       "        text-align: right;\n",
       "    }\n",
       "</style>\n",
       "<table border=\"1\" class=\"dataframe\">\n",
       "  <thead>\n",
       "    <tr style=\"text-align: right;\">\n",
       "      <th></th>\n",
       "      <th>author</th>\n",
       "      <th>posted_on</th>\n",
       "      <th>rating</th>\n",
       "      <th>text</th>\n",
       "    </tr>\n",
       "  </thead>\n",
       "  <tbody>\n",
       "    <tr>\n",
       "      <th>0</th>\n",
       "      <td>Alantae of Chesterfeild, MI</td>\n",
       "      <td>Nov. 22, 2016</td>\n",
       "      <td>1</td>\n",
       "      <td>I used to love Comcast. Until all these consta...</td>\n",
       "    </tr>\n",
       "    <tr>\n",
       "      <th>1</th>\n",
       "      <td>Vera of Philadelphia, PA</td>\n",
       "      <td>Nov. 19, 2016</td>\n",
       "      <td>1</td>\n",
       "      <td>I'm so over Comcast! The worst internet provid...</td>\n",
       "    </tr>\n",
       "    <tr>\n",
       "      <th>2</th>\n",
       "      <td>Sarah of Rancho Cordova, CA</td>\n",
       "      <td>Nov. 17, 2016</td>\n",
       "      <td>1</td>\n",
       "      <td>If I could give them a negative star or no sta...</td>\n",
       "    </tr>\n",
       "    <tr>\n",
       "      <th>3</th>\n",
       "      <td>Dennis of Manchester, NH</td>\n",
       "      <td>Nov. 16, 2016</td>\n",
       "      <td>1</td>\n",
       "      <td>I've had the worst experiences so far since in...</td>\n",
       "    </tr>\n",
       "    <tr>\n",
       "      <th>4</th>\n",
       "      <td>Ryan of Bellevue, WA</td>\n",
       "      <td>Nov. 14, 2016</td>\n",
       "      <td>1</td>\n",
       "      <td>Check your contract when you sign up for Comca...</td>\n",
       "    </tr>\n",
       "  </tbody>\n",
       "</table>\n",
       "</div>"
      ],
      "text/plain": [
       "                        author      posted_on  rating  \\\n",
       "0  Alantae of Chesterfeild, MI  Nov. 22, 2016       1   \n",
       "1     Vera of Philadelphia, PA  Nov. 19, 2016       1   \n",
       "2  Sarah of Rancho Cordova, CA  Nov. 17, 2016       1   \n",
       "3     Dennis of Manchester, NH  Nov. 16, 2016       1   \n",
       "4         Ryan of Bellevue, WA  Nov. 14, 2016       1   \n",
       "\n",
       "                                                text  \n",
       "0  I used to love Comcast. Until all these consta...  \n",
       "1  I'm so over Comcast! The worst internet provid...  \n",
       "2  If I could give them a negative star or no sta...  \n",
       "3  I've had the worst experiences so far since in...  \n",
       "4  Check your contract when you sign up for Comca...  "
      ]
     },
     "execution_count": 5,
     "metadata": {},
     "output_type": "execute_result"
    }
   ],
   "source": [
    "df.head()"
   ]
  },
  {
   "cell_type": "code",
   "execution_count": 6,
   "metadata": {
    "collapsed": true
   },
   "outputs": [
    {
     "name": "stdout",
     "output_type": "stream",
     "text": [
      "(5659, 4) (2225, 11)\n"
     ]
    }
   ],
   "source": [
    "print(df.shape,df_fcc.shape)"
   ]
  },
  {
   "cell_type": "code",
   "execution_count": 7,
   "metadata": {},
   "outputs": [],
   "source": [
    "import matplotlib.pyplot as plt"
   ]
  },
  {
   "cell_type": "code",
   "execution_count": 8,
   "metadata": {},
   "outputs": [],
   "source": [
    "import seaborn as sb"
   ]
  },
  {
   "cell_type": "code",
   "execution_count": 9,
   "metadata": {},
   "outputs": [],
   "source": [
    "import nltk"
   ]
  },
  {
   "cell_type": "code",
   "execution_count": 10,
   "metadata": {},
   "outputs": [
    {
     "data": {
      "text/plain": [
       "<matplotlib.axes._subplots.AxesSubplot at 0x1f1ac161f60>"
      ]
     },
     "execution_count": 10,
     "metadata": {},
     "output_type": "execute_result"
    },
    {
     "data": {
      "image/png": "[encoded data removed]",
      "text/plain": [
       "<Figure size 432x288 with 1 Axes>"
      ]
     },
     "metadata": {},
     "output_type": "display_data"
    }
   ],
   "source": [
    "sb.countplot(x='rating',data=df)"
   ]
  },
  {
   "cell_type": "code",
   "execution_count": 11,
   "metadata": {},
   "outputs": [
    {
     "data": {
      "text/plain": [
       "1    3734\n",
       "0    1560\n",
       "2     260\n",
       "3      54\n",
       "5      32\n",
       "4      19\n",
       "Name: rating, dtype: int64"
      ]
     },
     "execution_count": 11,
     "metadata": {},
     "output_type": "execute_result"
    }
   ],
   "source": [
    "df.rating.value_counts()"
   ]
  },
  {
   "cell_type": "code",
   "execution_count": 12,
   "metadata": {},
   "outputs": [
    {
     "name": "stdout",
     "output_type": "stream",
     "text": [
      "(1560, 4) (4099, 4)\n"
     ]
    }
   ],
   "source": [
    "df_no_rating = df.loc[df.rating == 0]\n",
    "df = df.loc[df.rating != 0]\n",
    "print(df_no_rating.shape,df.shape)"
   ]
  },
  {
   "cell_type": "code",
   "execution_count": 13,
   "metadata": {
    "collapsed": true
   },
   "outputs": [
    {
     "data": {
      "text/plain": [
       "<matplotlib.axes._subplots.AxesSubplot at 0x1f1ac3eeb70>"
      ]
     },
     "execution_count": 13,
     "metadata": {},
     "output_type": "execute_result"
    },
    {
     "data": {
      "image/png": "[encoded data removed]",
      "text/plain": [
       "<Figure size 432x288 with 1 Axes>"
      ]
     },
     "metadata": {},
     "output_type": "display_data"
    }
   ],
   "source": [
    "sb.countplot(x='rating',data=df)"
   ]
  },
  {
   "cell_type": "code",
   "execution_count": 14,
   "metadata": {},
   "outputs": [
    {
     "name": "stdout",
     "output_type": "stream",
     "text": [
      "There were 105 positive reviews and at least 3994 negative reviews.\n"
     ]
    }
   ],
   "source": [
    "Positive = int(df['rating'].loc[df['rating'] >= 3].count())\n",
    "Negative = int(df['rating'].loc[df['rating'] < 3].count())\n",
    "print(\"There were {} positive reviews and at least {} negative reviews.\".format(str(Positive),str(Negative)))"
   ]
  },
  {
   "cell_type": "code",
   "execution_count": 15,
   "metadata": {
    "collapsed": true
   },
   "outputs": [
    {
     "data": {
      "text/plain": [
       "FL    650\n",
       "CA    345\n",
       "GA    320\n",
       "IL    284\n",
       "PA    221\n",
       "TN    202\n",
       "TX    193\n",
       "MI    189\n",
       "WA    168\n",
       "NJ    167\n",
       "MD    156\n",
       "VA    146\n",
       "CO    144\n",
       "MA    120\n",
       "IN    104\n",
       "OR     83\n",
       "MN     82\n",
       "CT     50\n",
       "AL     48\n",
       "UT     47\n",
       "SC     38\n",
       "DE     34\n",
       "NM     30\n",
       "MS     30\n",
       "NH     28\n",
       "NY     24\n",
       "DC     22\n",
       "AZ     20\n",
       "KY     19\n",
       "LA     19\n",
       "AR     17\n",
       "WV     15\n",
       "ER     15\n",
       "MO     11\n",
       "OH     10\n",
       "WI      8\n",
       "VT      8\n",
       "ME      7\n",
       "NC      5\n",
       "KS      3\n",
       "NV      3\n",
       "IA      3\n",
       "BC      2\n",
       "ID      1\n",
       "ND      1\n",
       "ON      1\n",
       "TA      1\n",
       "HI      1\n",
       "AK      1\n",
       "ED      1\n",
       "WY      1\n",
       "PE      1\n",
       "Name: state, dtype: int64"
      ]
     },
     "execution_count": 15,
     "metadata": {},
     "output_type": "execute_result"
    }
   ],
   "source": [
    "df['state'] = df['author'].str[-2:].apply(lambda x: x.upper())\n",
    "df.state.value_counts()"
   ]
  },
  {
   "cell_type": "code",
   "execution_count": 16,
   "metadata": {
    "collapsed": true
   },
   "outputs": [
    {
     "data": {
      "text/plain": [
       "IA    1.000000\n",
       "ID    1.000000\n",
       "BC    0.500000\n",
       "NV    0.333333\n",
       "WV    0.133333\n",
       "NH    0.107143\n",
       "MO    0.090909\n",
       "ER    0.066667\n",
       "SC    0.052632\n",
       "AZ    0.050000\n",
       "WA    0.047619\n",
       "CT    0.040000\n",
       "MN    0.036585\n",
       "VA    0.034247\n",
       "NM    0.033333\n",
       "MI    0.031746\n",
       "GA    0.031250\n",
       "IN    0.028846\n",
       "CO    0.027778\n",
       "MD    0.025641\n",
       "MA    0.025000\n",
       "NJ    0.023952\n",
       "PA    0.022624\n",
       "FL    0.021538\n",
       "UT    0.021277\n",
       "IL    0.021127\n",
       "AL    0.020833\n",
       "CA    0.017391\n",
       "OR    0.012048\n",
       "TX    0.005181\n",
       "TN    0.004950\n",
       "AK         NaN\n",
       "AR         NaN\n",
       "DC         NaN\n",
       "DE         NaN\n",
       "ED         NaN\n",
       "HI         NaN\n",
       "KS         NaN\n",
       "KY         NaN\n",
       "LA         NaN\n",
       "ME         NaN\n",
       "MS         NaN\n",
       "NC         NaN\n",
       "ND         NaN\n",
       "NY         NaN\n",
       "OH         NaN\n",
       "ON         NaN\n",
       "PE         NaN\n",
       "TA         NaN\n",
       "VT         NaN\n",
       "WI         NaN\n",
       "WY         NaN\n",
       "Name: state, dtype: float64"
      ]
     },
     "execution_count": 16,
     "metadata": {},
     "output_type": "execute_result"
    }
   ],
   "source": [
    "(df.loc[df.rating > 2].state.value_counts() / df.state.value_counts()).sort_values(ascending=False)"
   ]
  },
  {
   "cell_type": "code",
   "execution_count": 17,
   "metadata": {},
   "outputs": [],
   "source": [
    "from wordcloud import WordCloud, STOPWORDS\n",
    "\n",
    "list_stops = ('comcast','time','customer','even','now','company',\n",
    "            'day','someone','thing','also','got','way','call','called','one','said','tell','service')\n",
    "\n",
    "for word in list_stops:\n",
    "    STOPWORDS.add(word)"
   ]
  },
  {
   "cell_type": "code",
   "execution_count": 18,
   "metadata": {},
   "outputs": [],
   "source": [
    "low_ratings =df['text'].dropna().loc[df['rating']<3].tolist()\n",
    "low_ratings =''.join(low_ratings).lower()\n",
    "\n",
    "high_ratings =df['text'].dropna().loc[df['rating']>=3].tolist()\n",
    "high_ratings =''.join(high_ratings).lower()\n",
    "\n",
    "\n",
    "no_ratings = df_no_rating['text'].dropna().tolist()\n",
    "no_ratings =''.join(no_ratings).lower()"
   ]
  },
  {
   "cell_type": "code",
   "execution_count": 20,
   "metadata": {},
   "outputs": [
    {
     "data": {
      "image/png": "[encoded data removed]",
      "text/plain": [
       "<Figure size 432x288 with 1 Axes>"
      ]
     },
     "metadata": {},
     "output_type": "display_data"
    }
   ],
   "source": [
    "WordCloud = WordCloud(stopwords=STOPWORDS,\n",
    "                      background_color='white',\n",
    "                      width=1200,\n",
    "                      height=1000).generate(low_ratings)\n",
    "plt.imshow(WordCloud)\n",
    "plt.title('Frequent words amongst low ratings')\n",
    "plt.axis('off')\n",
    "plt.show()"
   ]
  },
  {
   "cell_type": "code",
   "execution_count": 28,
   "metadata": {},
   "outputs": [
    {
     "ename": "TypeError",
     "evalue": "'WordCloud' object is not callable",
     "output_type": "error",
     "traceback": [
      "\u001b[1;31m---------------------------------------------------------------------------\u001b[0m",
      "\u001b[1;31mTypeError\u001b[0m                                 Traceback (most recent call last)",
      "\u001b[1;32m<ipython-input-28-4e5078d9a0c0>\u001b[0m in \u001b[0;36m<module>\u001b[1;34m()\u001b[0m\n\u001b[0;32m      2\u001b[0m                       \u001b[0mbackground_color\u001b[0m\u001b[1;33m=\u001b[0m\u001b[1;34m'white'\u001b[0m\u001b[1;33m,\u001b[0m\u001b[1;33m\u001b[0m\u001b[0m\n\u001b[0;32m      3\u001b[0m                       \u001b[0mwidth\u001b[0m\u001b[1;33m=\u001b[0m\u001b[1;36m1200\u001b[0m\u001b[1;33m,\u001b[0m\u001b[1;33m\u001b[0m\u001b[0m\n\u001b[1;32m----> 4\u001b[1;33m                       height=1000).generate(high_ratings)\n\u001b[0m\u001b[0;32m      5\u001b[0m \u001b[0mplt\u001b[0m\u001b[1;33m.\u001b[0m\u001b[0mimshow\u001b[0m\u001b[1;33m(\u001b[0m\u001b[0mwordcloud1\u001b[0m\u001b[1;33m)\u001b[0m\u001b[1;33m\u001b[0m\u001b[0m\n\u001b[0;32m      6\u001b[0m \u001b[0mplt\u001b[0m\u001b[1;33m.\u001b[0m\u001b[0mtitle\u001b[0m\u001b[1;33m(\u001b[0m\u001b[1;34m'Frequent words amongst high ratings'\u001b[0m\u001b[1;33m)\u001b[0m\u001b[1;33m\u001b[0m\u001b[0m\n",
      "\u001b[1;31mTypeError\u001b[0m: 'WordCloud' object is not callable"
     ]
    }
   ],
   "source": [
    "wordcloud1 = WordCloud(stopwords=STOPWORDS,\n",
    "                      background_color='white',\n",
    "                      width=1200,\n",
    "                      height=1000).generate(high_ratings)\n",
    "plt.imshow(wordcloud1)\n",
    "plt.title('Frequent words amongst high ratings')\n",
    "plt.axis('off')\n",
    "plt.show()"
   ]
  },
  {
   "cell_type": "code",
   "execution_count": 22,
   "metadata": {},
   "outputs": [
    {
     "ename": "TypeError",
     "evalue": "'WordCloud' object is not callable",
     "output_type": "error",
     "traceback": [
      "\u001b[1;31m---------------------------------------------------------------------------\u001b[0m",
      "\u001b[1;31mTypeError\u001b[0m                                 Traceback (most recent call last)",
      "\u001b[1;32m<ipython-input-22-8eb3cc3cee8e>\u001b[0m in \u001b[0;36m<module>\u001b[1;34m()\u001b[0m\n\u001b[0;32m      5\u001b[0m                       \u001b[0mbackground_color\u001b[0m\u001b[1;33m=\u001b[0m\u001b[1;34m'white'\u001b[0m\u001b[1;33m,\u001b[0m\u001b[1;33m\u001b[0m\u001b[0m\n\u001b[0;32m      6\u001b[0m                       \u001b[0mwidth\u001b[0m\u001b[1;33m=\u001b[0m\u001b[1;36m1200\u001b[0m\u001b[1;33m,\u001b[0m\u001b[1;33m\u001b[0m\u001b[0m\n\u001b[1;32m----> 7\u001b[1;33m                       height=1000).generate(high_ratings)\n\u001b[0m\u001b[0;32m      8\u001b[0m \u001b[0mplt\u001b[0m\u001b[1;33m.\u001b[0m\u001b[0mimshow\u001b[0m\u001b[1;33m(\u001b[0m\u001b[0mWordCloud\u001b[0m\u001b[1;33m)\u001b[0m\u001b[1;33m\u001b[0m\u001b[0m\n\u001b[0;32m      9\u001b[0m \u001b[0mplt\u001b[0m\u001b[1;33m.\u001b[0m\u001b[0mtitle\u001b[0m\u001b[1;33m(\u001b[0m\u001b[1;34m'Frequent words amongst high ratings'\u001b[0m\u001b[1;33m)\u001b[0m\u001b[1;33m\u001b[0m\u001b[0m\n",
      "\u001b[1;31mTypeError\u001b[0m: 'WordCloud' object is not callable"
     ]
    }
   ],
   "source": [
    "high_ratings =df['text'].dropna().loc[df['rating']>=4].tolist()\n",
    "high_ratings =''.join(high_ratings).lower()\n",
    "\n",
    "WordCloud = WordCloud(stopwords=STOPWORDS,\n",
    "                      background_color='white',\n",
    "                      width=1200,\n",
    "                      height=1000).generate(high_ratings)\n",
    "plt.imshow(WordCloud)\n",
    "plt.title('Frequent words amongst high ratings')\n",
    "plt.axis('off')\n",
    "plt.show()"
   ]
  },
  {
   "cell_type": "markdown",
   "metadata": {
    "tags": [
     "FCC",
     "Complaints"
    ]
   },
   "source": [
    "# FCC Complaints"
   ]
  },
  {
   "cell_type": "code",
   "execution_count": 22,
   "metadata": {},
   "outputs": [
    {
     "data": {
      "text/plain": [
       "<matplotlib.axes._subplots.AxesSubplot at 0x8c49e12b70>"
      ]
     },
     "execution_count": 22,
     "metadata": {},
     "output_type": "execute_result"
    },
    {
     "data": {
      "image/png": "[encoded data removed]",
      "text/plain": [
       "<Figure size 432x288 with 1 Axes>"
      ]
     },
     "metadata": {
      "needs_background": "light"
     },
     "output_type": "display_data"
    }
   ],
   "source": [
    "counts = df_fcc.State.value_counts()\n",
    "ax = counts.iloc[:10].plot(kind=\"bar\")\n",
    "ax"
   ]
  },
  {
   "cell_type": "code",
   "execution_count": 23,
   "metadata": {},
   "outputs": [
    {
     "data": {
      "text/plain": [
       "<matplotlib.axes._subplots.AxesSubplot at 0x8c4ac37860>"
      ]
     },
     "execution_count": 23,
     "metadata": {},
     "output_type": "execute_result"
    },
    {
     "data": {
      "image/png": "[encoded data removed]",
      "text/plain": [
       "<Figure size 432x288 with 1 Axes>"
      ]
     },
     "metadata": {
      "needs_background": "light"
     },
     "output_type": "display_data"
    }
   ],
   "source": [
    "counts = df_fcc.City.value_counts()\n",
    "ax = counts.iloc[:20].plot(kind=\"bar\")\n",
    "ax"
   ]
  },
  {
   "cell_type": "code",
   "execution_count": 24,
   "metadata": {},
   "outputs": [
    {
     "data": {
      "text/plain": [
       "Comcast                                                                 83\n",
       "Comcast Internet                                                        18\n",
       "Comcast Data Cap                                                        17\n",
       "comcast                                                                 13\n",
       "Comcast Billing                                                         11\n",
       "Data Caps                                                               11\n",
       "Comcast Data Caps                                                       11\n",
       "Unfair Billing Practices                                                 9\n",
       "Comcast data cap                                                         8\n",
       "Comcast internet                                                         8\n",
       "Data Cap                                                                 8\n",
       "Comcast/Xfinity                                                          8\n",
       "Internet speed                                                           8\n",
       "Comcast data caps                                                        8\n",
       "Comcast service                                                          6\n",
       "Billing                                                                  6\n",
       "COMCAST                                                                  6\n",
       "Comcast billing                                                          6\n",
       "Comcast Service                                                          6\n",
       "Comcast complaint                                                        5\n",
       "Comcast Internet Service                                                 5\n",
       "Internet Speed                                                           5\n",
       "Comcast Complaint                                                        5\n",
       "Comcast Unfair Billing Practices                                         4\n",
       "Comcast internet service                                                 4\n",
       "availabilty                                                              4\n",
       "Comcast Billing and Service Issues                                       4\n",
       "comcast data cap                                                         4\n",
       "Billing Dispute                                                          4\n",
       "Data cap                                                                 4\n",
       "                                                                        ..\n",
       "Comcast Overcharge for Internet Service for over One Year                1\n",
       "Comcast Forcing me to purchase cable tv, only want internet              1\n",
       "Comcast, Ypsilanti MI Internet Speed                                     1\n",
       "Comcast fradulent Marketing and billing for internet                     1\n",
       "Multiple billing an dcompetative issues.                                 1\n",
       "Comcast is stealing from me                                              1\n",
       "Comcast Customer Service; Theft; Inconsistency                           1\n",
       "West Coast Service Issues - Comcast                                      1\n",
       "Lack of availability                                                     1\n",
       "Communication problem                                                    1\n",
       "Comcast bundle billing                                                   1\n",
       "Comcast billing and services                                             1\n",
       "Overcharged $30 per month for 10 months straight                         1\n",
       "Issues with Comcast                                                      1\n",
       "Comcast service and billing                                              1\n",
       "Another Fraudulenct collection claim from Comcast                        1\n",
       "Billing problem                                                          1\n",
       "No Internet service                                                      1\n",
       "Comcast/Xfinity service                                                  1\n",
       "Cancelled Comcast Internet - Service and Billing was never cancelled     1\n",
       "Comcast Over Charges with No Notification                                1\n",
       "cannot access my email or service at all                                 1\n",
       "Data Cap 300gb                                                           1\n",
       "Comcast XFINITY Internet Performance                                     1\n",
       "Monopolistic Billing Practices                                           1\n",
       "Charged for Cable Modem Rental that I have owned for 8 years             1\n",
       "Over Charged for Service Never Received                                  1\n",
       "Issues with Cable and Internet Packaging Unfair Prices                   1\n",
       "Comcast Xfinity Deceptive Billing Practices                              1\n",
       "Cheating in Bundle Service Pricing                                       1\n",
       "Name: Customer Complaint, Length: 1842, dtype: int64"
      ]
     },
     "execution_count": 24,
     "metadata": {},
     "output_type": "execute_result"
    }
   ],
   "source": [
    "df_fcc['Customer Complaint'].value_counts()"
   ]
  },
  {
   "cell_type": "code",
   "execution_count": 25,
   "metadata": {},
   "outputs": [
    {
     "ename": "ModuleNotFoundError",
     "evalue": "No module named 'wordcloud'",
     "output_type": "error",
     "traceback": [
      "\u001b[1;31m---------------------------------------------------------------------------\u001b[0m",
      "\u001b[1;31mModuleNotFoundError\u001b[0m                       Traceback (most recent call last)",
      "\u001b[1;32m<ipython-input-25-873f393b5244>\u001b[0m in \u001b[0;36m<module>\u001b[1;34m\u001b[0m\n\u001b[1;32m----> 1\u001b[1;33m \u001b[1;32mfrom\u001b[0m \u001b[0mwordcloud\u001b[0m \u001b[1;32mimport\u001b[0m \u001b[0mSTOPWORDS\u001b[0m\u001b[1;33m\u001b[0m\u001b[1;33m\u001b[0m\u001b[0m\n\u001b[0m\u001b[0;32m      2\u001b[0m \u001b[0mcommon_complaints\u001b[0m \u001b[1;33m=\u001b[0m \u001b[0mdf_fcc\u001b[0m\u001b[1;33m[\u001b[0m\u001b[1;34m'Customer Complaint'\u001b[0m\u001b[1;33m]\u001b[0m\u001b[1;33m.\u001b[0m\u001b[0mdropna\u001b[0m\u001b[1;33m(\u001b[0m\u001b[1;33m)\u001b[0m\u001b[1;33m.\u001b[0m\u001b[0mtolist\u001b[0m\u001b[1;33m(\u001b[0m\u001b[1;33m)\u001b[0m\u001b[1;33m\u001b[0m\u001b[1;33m\u001b[0m\u001b[0m\n\u001b[0;32m      3\u001b[0m \u001b[0mcommon_complaints\u001b[0m \u001b[1;33m=\u001b[0m\u001b[1;34m''\u001b[0m\u001b[1;33m.\u001b[0m\u001b[0mjoin\u001b[0m\u001b[1;33m(\u001b[0m\u001b[0mcommon_complaints\u001b[0m\u001b[1;33m)\u001b[0m\u001b[1;33m.\u001b[0m\u001b[0mlower\u001b[0m\u001b[1;33m(\u001b[0m\u001b[1;33m)\u001b[0m\u001b[1;33m\u001b[0m\u001b[1;33m\u001b[0m\u001b[0m\n\u001b[0;32m      4\u001b[0m \u001b[1;33m\u001b[0m\u001b[0m\n\u001b[0;32m      5\u001b[0m \u001b[0mlist_stops\u001b[0m \u001b[1;33m=\u001b[0m \u001b[1;33m(\u001b[0m\u001b[1;34m'comcast'\u001b[0m\u001b[1;33m,\u001b[0m\u001b[1;34m'now'\u001b[0m\u001b[1;33m,\u001b[0m\u001b[1;34m'company'\u001b[0m\u001b[1;33m,\u001b[0m\u001b[1;34m'day'\u001b[0m\u001b[1;33m,\u001b[0m\u001b[1;34m'someone'\u001b[0m\u001b[1;33m,\u001b[0m\u001b[1;34m'thing'\u001b[0m\u001b[1;33m,\u001b[0m\u001b[1;34m'also'\u001b[0m\u001b[1;33m,\u001b[0m\u001b[1;34m'got'\u001b[0m\u001b[1;33m,\u001b[0m\u001b[1;34m'way'\u001b[0m\u001b[1;33m,\u001b[0m\u001b[1;34m'call'\u001b[0m\u001b[1;33m,\u001b[0m\u001b[1;34m'called'\u001b[0m\u001b[1;33m,\u001b[0m\u001b[1;34m'one'\u001b[0m\u001b[1;33m,\u001b[0m\u001b[1;34m'said'\u001b[0m\u001b[1;33m,\u001b[0m\u001b[1;34m'tell'\u001b[0m\u001b[1;33m)\u001b[0m\u001b[1;33m\u001b[0m\u001b[1;33m\u001b[0m\u001b[0m\n",
      "\u001b[1;31mModuleNotFoundError\u001b[0m: No module named 'wordcloud'"
     ]
    }
   ],
   "source": [
    "from wordcloud import STOPWORDS\n",
    "common_complaints = df_fcc['Customer Complaint'].dropna().tolist()\n",
    "common_complaints =''.join(common_complaints).lower()\n",
    "\n",
    "list_stops = ('comcast','now','company','day','someone','thing','also','got','way','call','called','one','said','tell')\n",
    "\n",
    "for word in list_stops:\n",
    "    STOPWORDS.add(word)\n",
    "    \n",
    "  \n"
   ]
  },
  {
   "cell_type": "code",
   "execution_count": 26,
   "metadata": {},
   "outputs": [
    {
     "ename": "NameError",
     "evalue": "name 'WordCloud' is not defined",
     "output_type": "error",
     "traceback": [
      "\u001b[1;31m---------------------------------------------------------------------------\u001b[0m",
      "\u001b[1;31mNameError\u001b[0m                                 Traceback (most recent call last)",
      "\u001b[1;32m<ipython-input-26-1394435d6e3b>\u001b[0m in \u001b[0;36m<module>\u001b[1;34m\u001b[0m\n\u001b[1;32m----> 1\u001b[1;33m wordcloud = WordCloud(stopwords=STOPWORDS,\n\u001b[0m\u001b[0;32m      2\u001b[0m                       \u001b[0mbackground_color\u001b[0m\u001b[1;33m=\u001b[0m\u001b[1;34m'white'\u001b[0m\u001b[1;33m,\u001b[0m\u001b[1;33m\u001b[0m\u001b[1;33m\u001b[0m\u001b[0m\n\u001b[0;32m      3\u001b[0m                       \u001b[0mwidth\u001b[0m\u001b[1;33m=\u001b[0m\u001b[1;36m1200\u001b[0m\u001b[1;33m,\u001b[0m\u001b[1;33m\u001b[0m\u001b[1;33m\u001b[0m\u001b[0m\n\u001b[0;32m      4\u001b[0m                       height=1000).generate(common_complaints)\n\u001b[0;32m      5\u001b[0m \u001b[0mplt\u001b[0m\u001b[1;33m.\u001b[0m\u001b[0mimshow\u001b[0m\u001b[1;33m(\u001b[0m\u001b[0mwordcloud\u001b[0m\u001b[1;33m)\u001b[0m\u001b[1;33m\u001b[0m\u001b[1;33m\u001b[0m\u001b[0m\n",
      "\u001b[1;31mNameError\u001b[0m: name 'WordCloud' is not defined"
     ]
    }
   ],
   "source": [
    "wordcloud = WordCloud(stopwords=STOPWORDS,\n",
    "                      background_color='white',\n",
    "                      width=1200,\n",
    "                      height=1000).generate(common_complaints)\n",
    "plt.imshow(wordcloud)\n",
    "plt.title('Frequent words for customer complaints')\n",
    "plt.axis('off')\n",
    "plt.show()"
   ]
  },
  {
   "cell_type": "code",
   "execution_count": null,
   "metadata": {},
   "outputs": [],
   "source": []
  },
  {
   "cell_type": "code",
   "execution_count": null,
   "metadata": {},
   "outputs": [],
   "source": []
  }
 ],
 "metadata": {
  "kernelspec": {
   "display_name": "Python 3",
   "language": "python",
   "name": "python3"
  },
  "language_info": {
   "codemirror_mode": {
    "name": "ipython",
    "version": 3
   },
   "file_extension": ".py",
   "mimetype": "text/x-python",
   "name": "python",
   "nbconvert_exporter": "python",
   "pygments_lexer": "ipython3",
   "version": "3.6.5"
  }
 },
 "nbformat": 4,
 "nbformat_minor": 2
}
